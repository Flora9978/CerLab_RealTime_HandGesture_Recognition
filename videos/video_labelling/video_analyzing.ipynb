{
 "cells": [
  {
   "cell_type": "markdown",
   "metadata": {},
   "source": [
    "# Offline Analysis of Video Data "
   ]
  },
  {
   "cell_type": "code",
   "execution_count": 1,
   "metadata": {},
   "outputs": [],
   "source": [
    "import pickle as pkl\n",
    "import pandas as pd\n",
    "import matplotlib.pyplot as plt\n",
    "import numpy as np"
   ]
  },
  {
   "cell_type": "code",
   "execution_count": 2,
   "metadata": {},
   "outputs": [
    {
     "name": "stdout",
     "output_type": "stream",
     "text": [
      "keypoint_pos :  1408\n",
      "prediction_label :  7\n",
      "prediction_rsts :  1408\n",
      "prediction_rsts_three_labels :  1408\n",
      "prediction_rsts_final :  1408\n"
     ]
    }
   ],
   "source": [
    "prediction_result_filename = \"prediction_results.pkl\"\n",
    "\n",
    "with open(prediction_result_filename, \"rb\") as f:\n",
    "    data = pkl.load(f)\n",
    "\n",
    "for key in data:\n",
    "    print(key, \": \", len(data[key]))"
   ]
  },
  {
   "cell_type": "markdown",
   "metadata": {},
   "source": [
    "## Some Constants"
   ]
  },
  {
   "cell_type": "code",
   "execution_count": 4,
   "metadata": {},
   "outputs": [],
   "source": [
    "NUM_OF_FRAMES_PER_PRED = 45 # number of frames to make a gesture prediction"
   ]
  },
  {
   "cell_type": "code",
   "execution_count": 5,
   "metadata": {},
   "outputs": [
    {
     "name": "stdout",
     "output_type": "stream",
     "text": [
      "['Clockwise', 'Counter Clockwise', 'Checkmark', 'Cross', 'Right', 'Left', 'None']\n"
     ]
    }
   ],
   "source": [
    "prediction_labels = data[\"prediction_label\"]\n",
    "print(prediction_labels)"
   ]
  },
  {
   "cell_type": "code",
   "execution_count": 6,
   "metadata": {},
   "outputs": [
    {
     "data": {
      "text/html": [
       "<div>\n",
       "<style scoped>\n",
       "    .dataframe tbody tr th:only-of-type {\n",
       "        vertical-align: middle;\n",
       "    }\n",
       "\n",
       "    .dataframe tbody tr th {\n",
       "        vertical-align: top;\n",
       "    }\n",
       "\n",
       "    .dataframe thead th {\n",
       "        text-align: right;\n",
       "    }\n",
       "</style>\n",
       "<table border=\"1\" class=\"dataframe\">\n",
       "  <thead>\n",
       "    <tr style=\"text-align: right;\">\n",
       "      <th></th>\n",
       "      <th>time</th>\n",
       "      <th>x</th>\n",
       "      <th>y</th>\n",
       "      <th>prediction</th>\n",
       "      <th>label</th>\n",
       "    </tr>\n",
       "  </thead>\n",
       "  <tbody>\n",
       "    <tr>\n",
       "      <th>0</th>\n",
       "      <td>0.000000</td>\n",
       "      <td>0</td>\n",
       "      <td>0</td>\n",
       "      <td>6</td>\n",
       "      <td>None</td>\n",
       "    </tr>\n",
       "    <tr>\n",
       "      <th>1</th>\n",
       "      <td>0.022222</td>\n",
       "      <td>843</td>\n",
       "      <td>369</td>\n",
       "      <td>6</td>\n",
       "      <td>None</td>\n",
       "    </tr>\n",
       "    <tr>\n",
       "      <th>2</th>\n",
       "      <td>0.044444</td>\n",
       "      <td>828</td>\n",
       "      <td>374</td>\n",
       "      <td>6</td>\n",
       "      <td>None</td>\n",
       "    </tr>\n",
       "    <tr>\n",
       "      <th>3</th>\n",
       "      <td>0.066667</td>\n",
       "      <td>797</td>\n",
       "      <td>389</td>\n",
       "      <td>6</td>\n",
       "      <td>None</td>\n",
       "    </tr>\n",
       "    <tr>\n",
       "      <th>4</th>\n",
       "      <td>0.088889</td>\n",
       "      <td>772</td>\n",
       "      <td>401</td>\n",
       "      <td>6</td>\n",
       "      <td>None</td>\n",
       "    </tr>\n",
       "    <tr>\n",
       "      <th>...</th>\n",
       "      <td>...</td>\n",
       "      <td>...</td>\n",
       "      <td>...</td>\n",
       "      <td>...</td>\n",
       "      <td>...</td>\n",
       "    </tr>\n",
       "    <tr>\n",
       "      <th>1403</th>\n",
       "      <td>31.177778</td>\n",
       "      <td>1181</td>\n",
       "      <td>180</td>\n",
       "      <td>2</td>\n",
       "      <td>Checkmark</td>\n",
       "    </tr>\n",
       "    <tr>\n",
       "      <th>1404</th>\n",
       "      <td>31.200000</td>\n",
       "      <td>1176</td>\n",
       "      <td>181</td>\n",
       "      <td>2</td>\n",
       "      <td>Checkmark</td>\n",
       "    </tr>\n",
       "    <tr>\n",
       "      <th>1405</th>\n",
       "      <td>31.222222</td>\n",
       "      <td>1169</td>\n",
       "      <td>182</td>\n",
       "      <td>2</td>\n",
       "      <td>Checkmark</td>\n",
       "    </tr>\n",
       "    <tr>\n",
       "      <th>1406</th>\n",
       "      <td>31.244444</td>\n",
       "      <td>1161</td>\n",
       "      <td>185</td>\n",
       "      <td>2</td>\n",
       "      <td>Checkmark</td>\n",
       "    </tr>\n",
       "    <tr>\n",
       "      <th>1407</th>\n",
       "      <td>31.266667</td>\n",
       "      <td>1154</td>\n",
       "      <td>203</td>\n",
       "      <td>0</td>\n",
       "      <td>Clockwise</td>\n",
       "    </tr>\n",
       "  </tbody>\n",
       "</table>\n",
       "<p>1408 rows × 5 columns</p>\n",
       "</div>"
      ],
      "text/plain": [
       "           time     x    y  prediction      label\n",
       "0      0.000000     0    0           6       None\n",
       "1      0.022222   843  369           6       None\n",
       "2      0.044444   828  374           6       None\n",
       "3      0.066667   797  389           6       None\n",
       "4      0.088889   772  401           6       None\n",
       "...         ...   ...  ...         ...        ...\n",
       "1403  31.177778  1181  180           2  Checkmark\n",
       "1404  31.200000  1176  181           2  Checkmark\n",
       "1405  31.222222  1169  182           2  Checkmark\n",
       "1406  31.244444  1161  185           2  Checkmark\n",
       "1407  31.266667  1154  203           0  Clockwise\n",
       "\n",
       "[1408 rows x 5 columns]"
      ]
     },
     "execution_count": 6,
     "metadata": {},
     "output_type": "execute_result"
    }
   ],
   "source": [
    "n_samples = len(data[\"keypoint_pos\"])\n",
    "time_stamp = np.arange(0, n_samples) / NUM_OF_FRAMES_PER_PRED\n",
    "keypoint_x = np.asarray([x for x, _ in data[\"keypoint_pos\"]], dtype=int)\n",
    "keypoint_y = np.asarray([y for _, y in data[\"keypoint_pos\"]], dtype=int)\n",
    "prediction = np.asarray(data[\"prediction_rsts\"], dtype=int)\n",
    "prediction_label = [prediction_labels[i] for i in prediction]\n",
    "\n",
    "df = pd.DataFrame({\"time\":time_stamp, \"x\":keypoint_x, \"y\":keypoint_y, \"prediction\":prediction, \"label\":prediction_label})\n",
    "df"
   ]
  },
  {
   "cell_type": "markdown",
   "metadata": {},
   "source": [
    "## visualize the label per time"
   ]
  },
  {
   "cell_type": "code",
   "execution_count": 7,
   "metadata": {},
   "outputs": [
    {
     "data": {
      "text/plain": [
       "<StemContainer object of 3 artists>"
      ]
     },
     "execution_count": 7,
     "metadata": {},
     "output_type": "execute_result"
    },
    {
     "data": {
      "image/png": "[encoded data removed]",
      "text/plain": [
       "<Figure size 432x288 with 1 Axes>"
      ]
     },
     "metadata": {
      "needs_background": "light"
     },
     "output_type": "display_data"
    }
   ],
   "source": [
    "plt.stem(df['time'], df['prediction'])"
   ]
  },
  {
   "cell_type": "code",
   "execution_count": 9,
   "metadata": {},
   "outputs": [
    {
     "ename": "KeyError",
     "evalue": "'true_label'",
     "output_type": "error",
     "traceback": [
      "\u001b[0;31m---------------------------------------------------------------------------\u001b[0m",
      "\u001b[0;31mKeyError\u001b[0m                                  Traceback (most recent call last)",
      "\u001b[1;32m/Volumes/GoogleDrive-101791113250306242803/My Drive/CMU/Research/mediapipe_hand/hand-gesture-recognition-mediapipe-main/video_analyzing.ipynb Cell 11'\u001b[0m in \u001b[0;36m<cell line: 5>\u001b[0;34m()\u001b[0m\n\u001b[1;32m      <a href='vscode-notebook-cell:/Volumes/GoogleDrive-101791113250306242803/My%20Drive/CMU/Research/mediapipe_hand/hand-gesture-recognition-mediapipe-main/video_analyzing.ipynb#ch0000010?line=1'>2</a>\u001b[0m \u001b[39mimport\u001b[39;00m \u001b[39mnumpy\u001b[39;00m \u001b[39mas\u001b[39;00m \u001b[39mnp\u001b[39;00m\n\u001b[1;32m      <a href='vscode-notebook-cell:/Volumes/GoogleDrive-101791113250306242803/My%20Drive/CMU/Research/mediapipe_hand/hand-gesture-recognition-mediapipe-main/video_analyzing.ipynb#ch0000010?line=3'>4</a>\u001b[0m \u001b[39m# create data\u001b[39;00m\n\u001b[0;32m----> <a href='vscode-notebook-cell:/Volumes/GoogleDrive-101791113250306242803/My%20Drive/CMU/Research/mediapipe_hand/hand-gesture-recognition-mediapipe-main/video_analyzing.ipynb#ch0000010?line=4'>5</a>\u001b[0m x \u001b[39m=\u001b[39m data[\u001b[39m'\u001b[39;49m\u001b[39mtrue_label\u001b[39;49m\u001b[39m'\u001b[39;49m]\n\u001b[1;32m      <a href='vscode-notebook-cell:/Volumes/GoogleDrive-101791113250306242803/My%20Drive/CMU/Research/mediapipe_hand/hand-gesture-recognition-mediapipe-main/video_analyzing.ipynb#ch0000010?line=5'>6</a>\u001b[0m y \u001b[39m=\u001b[39m prediction\n\u001b[1;32m      <a href='vscode-notebook-cell:/Volumes/GoogleDrive-101791113250306242803/My%20Drive/CMU/Research/mediapipe_hand/hand-gesture-recognition-mediapipe-main/video_analyzing.ipynb#ch0000010?line=6'>7</a>\u001b[0m \u001b[39mprint\u001b[39m(\u001b[39mlen\u001b[39m(x), \u001b[39mlen\u001b[39m(y))\n",
      "\u001b[0;31mKeyError\u001b[0m: 'true_label'"
     ]
    }
   ],
   "source": [
    "%matplotlib inline\n",
    "import numpy as np\n",
    "  \n",
    "# create data\n",
    "x = data['true_label']\n",
    "y = prediction\n",
    "print(len(x), len(y))\n",
    "# plot lines\n",
    "plt.plot(x, np.arange(len(prediction)), label = \"true\")\n",
    "plt.plot(y, np.arange(len(prediction)), label = \"predict\")\n",
    "plt.legend()\n",
    "plt.show()"
   ]
  }
 ],
 "metadata": {
  "interpreter": {
   "hash": "aee8b7b246df8f9039afb4144a1f6fd8d2ca17a180786b69acc140d282b71a49"
  },
  "kernelspec": {
   "display_name": "Python 3.8.7 64-bit",
   "language": "python",
   "name": "python3"
  },
  "language_info": {
   "codemirror_mode": {
    "name": "ipython",
    "version": 3
   },
   "file_extension": ".py",
   "mimetype": "text/x-python",
   "name": "python",
   "nbconvert_exporter": "python",
   "pygments_lexer": "ipython3",
   "version": "3.10.3"
  },
  "orig_nbformat": 4
 },
 "nbformat": 4,
 "nbformat_minor": 2
}

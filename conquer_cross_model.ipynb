{
 "cells": [
  {
   "cell_type": "code",
   "execution_count": 35,
   "metadata": {},
   "outputs": [],
   "source": [
    "import csv\n",
    "\n",
    "import numpy as np\n",
    "import tensorflow as tf\n",
    "from collections import Counter\n",
    "from sklearn.model_selection import train_test_split\n",
    "\n",
    "RANDOM_SEED = 42"
   ]
  },
  {
   "cell_type": "code",
   "execution_count": 36,
   "metadata": {},
   "outputs": [
    {
     "name": "stdout",
     "output_type": "stream",
     "text": [
      "Num GPUs Available:  1\n"
     ]
    }
   ],
   "source": [
    "print(\"Num GPUs Available: \", len(tf.config.list_physical_devices('GPU')))\n"
   ]
  },
  {
   "cell_type": "markdown",
   "metadata": {},
   "source": [
    "# Filter Data According to badSampleIdxList txt file"
   ]
  },
  {
   "cell_type": "code",
   "execution_count": 37,
   "metadata": {},
   "outputs": [],
   "source": [
    "# filter \n",
    "def filterBadData(X_dataset, y_dataset, badSampleIdxListTXT):\n",
    "    print(\"original shape = \", X_dataset.shape)\n",
    "    teleportation_threshold = 0.2 # allowed maximum teleportation distance\n",
    "    for i in range(TIME_STEPS-1):\n",
    "\n",
    "        diff_x = X_dataset[:, 2*i] - X_dataset[:, 2*i+2]\n",
    "        diff_y = X_dataset[:, 2*i+1] - X_dataset[:, 2*i+3]\n",
    "        dist = diff_x * diff_x + diff_y * diff_y\n",
    "        filt = dist > (teleportation_threshold * teleportation_threshold)\n",
    "        X_dataset[filt, 2*i+2] = X_dataset[filt, 2*i]\n",
    "        X_dataset[filt, 2*i+3] = X_dataset[filt, 2*i+1]\n",
    "\n",
    "    # remove records that have only outliers\n",
    "    amplitute = np.sum(np.abs(X_dataset), axis=1)\n",
    "    filt = amplitute > 0.01\n",
    "    X_dataset = X_dataset[filt]\n",
    "    y_dataset = y_dataset[filt]\n",
    "\n",
    "    if badsampleIdxFile:\n",
    "        badSampleIdxList = np.loadtxt(badSampleIdxListTXT)\n",
    "        filt = np.ones(len(X_dataset), dtype=bool)\n",
    "        for idx in badSampleIdxList:\n",
    "            idx = int(idx)\n",
    "            filt[idx] = False\n",
    "\n",
    "        X_dataset = X_dataset[filt]\n",
    "        y_dataset = y_dataset[filt]\n",
    "\n",
    "    return X_dataset, y_dataset\n"
   ]
  },
  {
   "cell_type": "markdown",
   "metadata": {},
   "source": [
    "# Choose the Dataset"
   ]
  },
  {
   "cell_type": "code",
   "execution_count": 65,
   "metadata": {},
   "outputs": [],
   "source": [
    "data_twoPeople = [\n",
    "    'model/point_history_classifier/point_history.csv', \n",
    "    'model/point_history_classifier/point_history_xinyang.csv'\n",
    "    ]\n",
    "badSampleIdxList_twoPeople = [\n",
    "    \"badSampleIdxList_yipeng.txt\", \n",
    "    \"badSampleIdxList_xinyang.txt\"\n",
    "    ]\n",
    "# model_save_path = 'model/point_history_classifier/point_history_classifier_LSTM_2P.hdf5'\n",
    "model_save_path = 'model/point_history_classifier/point_history_classifier_LSTM_ConquerCross.hdf5'\n",
    "tflite_save_path = 'model/point_history_classifier/point_history_classifier_LSTM_ConquerCross.tflite'\n",
    "# label_names = [\"Clockwise\", \"Counter Clockwise\", \"Checkmark\", \"Right\", \"Left\", \"None\"]\n",
    "label_names = [\"Clockwise\", \"Counter Clockwise\", \"Checkmark\", \"Cross\", \"Right\", \"Left\", \"None\"]\n",
    "\n",
    "should_we_delete_cross = False"
   ]
  },
  {
   "cell_type": "markdown",
   "metadata": {},
   "source": [
    "# How many classes?"
   ]
  },
  {
   "cell_type": "code",
   "execution_count": 39,
   "metadata": {},
   "outputs": [],
   "source": [
    "NUM_CLASSES = 7"
   ]
  },
  {
   "cell_type": "markdown",
   "metadata": {},
   "source": [
    "# 入力長"
   ]
  },
  {
   "cell_type": "code",
   "execution_count": 40,
   "metadata": {},
   "outputs": [],
   "source": [
    "TIME_STEPS = 30 #16 or 30\n",
    "TIME_STEPS_AFTER_EXPAND = 45 #16 or 30\n",
    "DIMENSION = 2"
   ]
  },
  {
   "cell_type": "markdown",
   "metadata": {},
   "source": [
    "# Load Data"
   ]
  },
  {
   "cell_type": "code",
   "execution_count": 41,
   "metadata": {},
   "outputs": [
    {
     "name": "stdout",
     "output_type": "stream",
     "text": [
      "original shape =  (2409, 60)\n",
      "original shape =  (2520, 60)\n"
     ]
    },
    {
     "data": {
      "text/plain": [
       "((4183, 60), (4183,))"
      ]
     },
     "execution_count": 41,
     "metadata": {},
     "output_type": "execute_result"
    }
   ],
   "source": [
    "X_list = []\n",
    "y_list = []\n",
    "for csvfileName, badsampleIdxFile in zip(data_twoPeople, badSampleIdxList_twoPeople):\n",
    "    X_dataset = np.loadtxt(csvfileName, delimiter=',', dtype='float32', usecols=list(range(1, (TIME_STEPS * DIMENSION) + 1)))\n",
    "    y_dataset = np.loadtxt(csvfileName, delimiter=',', dtype='int32', usecols=(0))\n",
    "\n",
    "    X_dataset, y_dataset = filterBadData(X_dataset, y_dataset, badsampleIdxFile) # comment if you want to keep mutation \n",
    "    X_list.append(X_dataset)\n",
    "    y_list.append(y_dataset)\n",
    "\n",
    "X_dataset = np.vstack(X_list)\n",
    "y_dataset = np.concatenate(y_list)\n",
    "X_dataset.shape, y_dataset.shape"
   ]
  },
  {
   "cell_type": "markdown",
   "metadata": {},
   "source": [
    "Add Gaussian"
   ]
  },
  {
   "cell_type": "code",
   "execution_count": 42,
   "metadata": {},
   "outputs": [],
   "source": [
    "mu, sigma = 0, 0.01\n",
    "noise = np.random.normal(mu, sigma, X_dataset.shape)\n",
    "X_dataset += noise"
   ]
  },
  {
   "cell_type": "code",
   "execution_count": 43,
   "metadata": {},
   "outputs": [],
   "source": [
    "# Clean data with Gaussian noise\n",
    "X_origin = X_dataset\n",
    "y_origin = y_dataset"
   ]
  },
  {
   "cell_type": "markdown",
   "metadata": {},
   "source": [
    "# Process Data (Augmentation)"
   ]
  },
  {
   "cell_type": "code",
   "execution_count": 44,
   "metadata": {},
   "outputs": [
    {
     "name": "stdout",
     "output_type": "stream",
     "text": [
      "3481 Cross\n"
     ]
    },
    {
     "data": {
      "text/plain": [
       "(4183, 60)"
      ]
     },
     "execution_count": 44,
     "metadata": {},
     "output_type": "execute_result"
    },
    {
     "data": {
      "image/png": "[encoded data removed]",
      "text/plain": [
       "<Figure size 432x288 with 1 Axes>"
      ]
     },
     "metadata": {
      "needs_background": "light"
     },
     "output_type": "display_data"
    }
   ],
   "source": [
    "from matplotlib import pyplot as plt\n",
    "\n",
    "idx = np.random.randint(100, 4000)\n",
    "\n",
    "x = X_dataset[idx,::2]\n",
    "y = X_dataset[idx,1::2]\n",
    "plt.xlim([-0.5,0.5])\n",
    "plt.ylim([-0.5,0.5])\n",
    "print(idx, label_names[y_dataset[idx]])\n",
    "plt.plot(x, y)\n",
    "X_dataset.shape\n"
   ]
  },
  {
   "cell_type": "markdown",
   "metadata": {},
   "source": [
    "Create the Transformation Function H"
   ]
  },
  {
   "cell_type": "code",
   "execution_count": 45,
   "metadata": {},
   "outputs": [],
   "source": [
    "from scipy.spatial.transform import Rotation\n",
    "def rotationMatrix(angle):\n",
    "    r = Rotation.from_quat([0, 0, np.sin(np.pi/(360/angle)), np.cos(np.pi/(360/angle))])\n",
    "    return r.as_matrix()\n",
    "\n",
    "def translateMatrix(x_dist, y_dist):\n",
    "    t = np.identity(3)\n",
    "    t[0,2] = x_dist\n",
    "    t[1,2] = y_dist\n",
    "    return t\n",
    "\n",
    "def scaleMatrix(x_scale, y_scale):\n",
    "    s = np.identity(3)\n",
    "    s[0, 0] = x_scale\n",
    "    s[1, 1] = y_scale\n",
    "    return s\n",
    "\n",
    "\n",
    "'''\n",
    "CCW, CW: rotation, scale, translate\n",
    "check: scale, translate\n",
    "cross: rotation, scale, translate\n",
    "right, left: scale, translate\n",
    "'''\n",
    "H_rotation_list = [rotationMatrix(angle) for angle in range(60, 360, 60)]\n",
    "H_translation_list = [translateMatrix(dx, dy) for dx in np.arange(-0.2, 0.2, 0.05) for dy in np.arange(-0.2, 0.2, 0.05)]\n",
    "H_scale_list = [scaleMatrix(x_scale, y_scale) for x_scale in np.arange(0.8, 1.2, 0.05) for y_scale in np.arange(0.8, 1.2, 0.05)]\n",
    "\n",
    "CCW_n_CW_dup_times = 4          # number of fake copies by duplicating original samples\n",
    "cross_dup_times = 6             # number of fake copies by duplicating original samples\n",
    "check_dup_times = 4             # number of fake copies by duplicating original samples\n",
    "left_n_right_dup_times = 4      # number of fake copies by duplicating original samples\n",
    "\n",
    "\n",
    "np.random.seed(42)\n",
    "CCW_n_CW_dup_H_random_idx = [\n",
    "    np.random.permutation(len(H_rotation_list))[:CCW_n_CW_dup_times], \n",
    "    np.random.permutation(len(H_translation_list))[:CCW_n_CW_dup_times],\n",
    "    np.random.permutation(len(H_scale_list))[:CCW_n_CW_dup_times]\n",
    "]\n",
    "cross_dup_H_random_idx = [\n",
    "    np.random.permutation(len(H_rotation_list))[:cross_dup_times],\n",
    "    np.random.permutation(len(H_translation_list))[:cross_dup_times],\n",
    "    np.random.permutation(len(H_scale_list))[:cross_dup_times]\n",
    "]\n",
    "check_dup_H_random_idx = [\n",
    "    np.random.permutation(len(H_translation_list))[:check_dup_times],\n",
    "    np.random.permutation(len(H_scale_list))[:check_dup_times]\n",
    "]\n",
    "left_n_right_random_idx = [\n",
    "    np.random.permutation(len(H_translation_list))[:left_n_right_dup_times],\n",
    "    np.random.permutation(len(H_scale_list))[:left_n_right_dup_times]\n",
    "]\n",
    "\n",
    "\n",
    "CCW_n_CW_dup_H = []\n",
    "for rotation_H_idx, translation_H_idx, scale_H_idx in zip(CCW_n_CW_dup_H_random_idx[0], CCW_n_CW_dup_H_random_idx[1], CCW_n_CW_dup_H_random_idx[2]):\n",
    "    CCW_n_CW_dup_H.append(H_rotation_list[rotation_H_idx].dot(H_translation_list[translation_H_idx]).dot(H_scale_list[scale_H_idx]))\n",
    "\n",
    "cross_dup_H = []\n",
    "for rotation_H_idx, translation_H_idx, scale_H_idx in zip(cross_dup_H_random_idx[0], cross_dup_H_random_idx[0], cross_dup_H_random_idx[0]):\n",
    "    cross_dup_H.append(H_rotation_list[rotation_H_idx].dot(H_translation_list[translation_H_idx]).dot(H_scale_list[scale_H_idx]))\n",
    "\n",
    "check_dup_H = []\n",
    "for translation_H_idx, scale_H_idx in zip(check_dup_H_random_idx[0], check_dup_H_random_idx[1]):\n",
    "    check_dup_H.append(H_translation_list[translation_H_idx].dot(H_scale_list[scale_H_idx]))\n",
    "\n",
    "left_n_right_dup_H = []\n",
    "for translation_H_idx, scale_H_idx in zip(left_n_right_random_idx[0], left_n_right_random_idx[1]):\n",
    "    left_n_right_dup_H.append(H_translation_list[translation_H_idx].dot(H_scale_list[scale_H_idx]))\n",
    "\n",
    "\n",
    "H_dict = {0:CCW_n_CW_dup_H, 1:CCW_n_CW_dup_H, 2:check_dup_H, 3:cross_dup_H, 4:left_n_right_dup_H, 5:left_n_right_dup_H}\n",
    "\n",
    "# r = rotationMatrix(30).as_matrix()\n",
    "# t = translateMatrix(1, 1)\n",
    "# s = scaleMatrix(0.8, 0.8)\n",
    "\n",
    "# H = np.dot(t, s)\n",
    "# H = np.dot(H, r)\n",
    "# plot to check\n",
    "# plt.xlim([-0.5,0.5])\n",
    "# plt.ylim([-0.5,0.5])\n",
    "# print(idx, label_names[y_dataset[idx]])\n",
    "# plt.plot(new_sample[:,0], new_sample[:,1])"
   ]
  },
  {
   "cell_type": "code",
   "execution_count": 46,
   "metadata": {},
   "outputs": [
    {
     "data": {
      "text/plain": [
       "((21556, 60), (21556,))"
      ]
     },
     "execution_count": 46,
     "metadata": {},
     "output_type": "execute_result"
    }
   ],
   "source": [
    "def transformDataset(data=X_dataset, label=y_dataset, H_dict=H_dict):\n",
    "    for sample_idx in range(len(data)):\n",
    "        x = data[sample_idx,::2]\n",
    "        y = data[sample_idx,1::2]\n",
    "        l = label[sample_idx]\n",
    "\n",
    "\n",
    "        one_sample = np.vstack([x, y, np.ones(30,)]).T\n",
    "\n",
    "        for H in H_dict[l]:\n",
    "            # do transformation to this sample\n",
    "            transed_sample = np.dot(one_sample, H)\n",
    "            transed_sample[:, :2] /= transed_sample[:, 2:]\n",
    "            transed_sample = np.reshape(transed_sample[:,:2], (1, 60))\n",
    "            data = np.append(data, transed_sample, axis=0)\n",
    "            label = np.append(label, label[sample_idx])\n",
    "    return data, label\n",
    "\n",
    "X_dataset_org = X_dataset.copy()\n",
    "y_dataset_org = y_dataset.copy()\n",
    "X_dataset, y_dataset = transformDataset(X_dataset, y_dataset, H_dict)\n",
    "\n",
    "X_dataset.shape, y_dataset.shape"
   ]
  },
  {
   "cell_type": "markdown",
   "metadata": {},
   "source": [
    "Delete the Cross Class"
   ]
  },
  {
   "cell_type": "code",
   "execution_count": 47,
   "metadata": {},
   "outputs": [],
   "source": [
    "if should_we_delete_cross:\n",
    "    filt = y_dataset != 3\n",
    "    X_dataset = X_dataset[filt]\n",
    "    y_dataset = y_dataset[filt]\n",
    "\n",
    "    y_dataset[y_dataset == 4] = 3\n",
    "    y_dataset[y_dataset == 5] = 4\n",
    "    y_dataset[y_dataset == 6] = 5"
   ]
  },
  {
   "cell_type": "markdown",
   "metadata": {},
   "source": [
    "Print the Dataset Info before NoneType added in"
   ]
  },
  {
   "cell_type": "code",
   "execution_count": 48,
   "metadata": {},
   "outputs": [
    {
     "name": "stdout",
     "output_type": "stream",
     "text": [
      "(21556, 60) (21556,)\n",
      "{'Counter Clockwise': 3790, 'Clockwise': 3995, 'Checkmark': 3540, 'Cross': 3846, 'Left': 3420, 'Right': 2965}\n"
     ]
    }
   ],
   "source": [
    "print(X_dataset.shape, y_dataset.shape)\n",
    "\n",
    "label_count = {}\n",
    "for l in y_dataset:\n",
    "    label_count[label_names[l]] = (label_count.get(label_names[l], 0) + 1)\n",
    "print(label_count)\n",
    "# remember, the Cross gesture may have been deleted, but we are too lazy to change the label name"
   ]
  },
  {
   "cell_type": "markdown",
   "metadata": {},
   "source": [
    "# Add NoneType Data"
   ]
  },
  {
   "cell_type": "code",
   "execution_count": 49,
   "metadata": {},
   "outputs": [],
   "source": [
    "import random\n",
    "from matplotlib import pyplot as plt\n",
    "\n",
    "random_walking = 2000\n",
    "sudden_points = 1000\n",
    "stop_moving = 1000\n",
    "\n",
    "\n",
    "def createRandomWalkingData(random_walking, time_steps, maxMobiliarbus=0.2):\n",
    "    random_walk_data = []\n",
    "    for _ in range(random_walking):\n",
    "        samples = [0,0]\n",
    "        for _ in range(time_steps-1):\n",
    "            dx, dy = random.uniform(-1, 1) * maxMobiliarbus, random.uniform(-1, 1) * maxMobiliarbus\n",
    "            newx, newy = samples[-2]+dx, samples[-1]+dy\n",
    "            while not (-0.5<=newx<=0.5 and -0.5 <=newy<=0.5):\n",
    "                dx, dy = random.uniform(-1, 1) * maxMobiliarbus, random.uniform(-1, 1) * maxMobiliarbus\n",
    "                newx, newy = samples[-2]+dx, samples[-1]+dy\n",
    "            samples += [newx, newy]\n",
    "        random_walk_data.append(np.asarray(samples))\n",
    "    random_walk_data = np.asarray(random_walk_data)\n",
    "    return random_walk_data\n",
    "\n",
    "def createSuddenData(sudden_points, time_steps):\n",
    "    sudden_points_data = []\n",
    "    for _ in range(sudden_points):\n",
    "        sample = np.random.rand(time_steps*2)*2 - 0.55\n",
    "        sudden_points_data.append(sample)\n",
    "    sudden_points_data = np.asarray(sudden_points_data)\n",
    "    return sudden_points_data\n",
    "\n",
    "def createStopMoveData(stop_moving, time_steps, stopMobiliarbus=5e-3):\n",
    "    stop_moving_data = []\n",
    "    for sample_num in range(stop_moving):\n",
    "        samples = [0,0]\n",
    "        for _ in range(time_steps-1):\n",
    "            dx, dy = random.uniform(-1, 1) * stopMobiliarbus, random.uniform(-1, 1) * stopMobiliarbus\n",
    "            newx, newy = samples[-2]+dx, samples[-1]+dy\n",
    "            while not (-0.5<=newx<=0.5 and -0.5 <=newy<=0.5):\n",
    "                dx, dy = random.uniform(-1, 1) * stopMobiliarbus, random.uniform(-1, 1) * stopMobiliarbus\n",
    "                newx, newy = samples[-2]+dx, samples[-1]+dy\n",
    "            samples += [newx, newy]\n",
    "        stop_moving_data.append(np.asarray(samples))\n",
    "    stop_moving_data = np.asarray(stop_moving_data)\n",
    "    return stop_moving_data\n",
    "\n",
    "random_walk_data = createRandomWalkingData(random_walking, TIME_STEPS)\n",
    "sudden_points_data = createSuddenData(sudden_points, TIME_STEPS)\n",
    "stop_moving_data = createStopMoveData(stop_moving, TIME_STEPS)\n",
    "nonetype_label = np.zeros(shape=(random_walking+ sudden_points + stop_moving, ),dtype=int)+(len(label_names)-1)"
   ]
  },
  {
   "cell_type": "code",
   "execution_count": 50,
   "metadata": {},
   "outputs": [
    {
     "name": "stdout",
     "output_type": "stream",
     "text": [
      "random_walk_data= (2000, 60)\n",
      "642 random_walk_data\n"
     ]
    },
    {
     "data": {
      "text/plain": [
       "(4000,)"
      ]
     },
     "execution_count": 50,
     "metadata": {},
     "output_type": "execute_result"
    },
    {
     "data": {
      "image/png": "[encoded data removed]",
      "text/plain": [
       "<Figure size 432x288 with 1 Axes>"
      ]
     },
     "metadata": {
      "needs_background": "light"
     },
     "output_type": "display_data"
    }
   ],
   "source": [
    "\n",
    "def display(data_set, dataset_label, label_dataset=None, label_names=None, idx=None):\n",
    "    if idx is None:\n",
    "        idx = np.random.randint(0, data_set.shape[0])\n",
    "    print(dataset_label+\"=\", data_set.shape)\n",
    "    if label_dataset is not None:\n",
    "        if label_names is None:\n",
    "            print(\"label\", label_dataset[idx])\n",
    "        else:\n",
    "            print(\"label\", label_names[label_dataset[idx]])\n",
    "    x = data_set[idx,::2]\n",
    "    y = data_set[idx,1::2]\n",
    "    plt.xlim([-0.5,0.5])\n",
    "    plt.ylim([-0.5,0.5])\n",
    "    print(idx, dataset_label)\n",
    "    plt.plot(x, y)\n",
    "    return idx\n",
    "\n",
    "# display(stop_moving_data, \"stop_moving_data\")\n",
    "display(random_walk_data, \"random_walk_data\")\n",
    "# display(sudden_points_data, \"sudden_points_data\")\n",
    "\n",
    "nonetype_label.shape"
   ]
  },
  {
   "cell_type": "markdown",
   "metadata": {},
   "source": [
    "Add all nonetype data into main dataset"
   ]
  },
  {
   "cell_type": "code",
   "execution_count": 51,
   "metadata": {},
   "outputs": [
    {
     "name": "stdout",
     "output_type": "stream",
     "text": [
      "Before adding nonetype (21556, 60) (21556,)\n",
      "After adding nonetype (25556, 60) (25556,)\n",
      "[1 1 1 ... 6 6 6]\n",
      "0 6\n",
      "Counter({6: 4000, 0: 3995, 3: 3846, 1: 3790, 2: 3540, 5: 3420, 4: 2965})\n"
     ]
    }
   ],
   "source": [
    "print(\"Before adding nonetype\", X_dataset.shape, y_dataset.shape)\n",
    "X_dataset = np.vstack([X_dataset, random_walk_data, sudden_points_data, stop_moving_data])\n",
    "y_dataset = np.hstack([y_dataset, nonetype_label])\n",
    "print(\"After adding nonetype\", X_dataset.shape, y_dataset.shape)\n",
    "print(y_dataset)\n",
    "print(min(y_dataset), max(y_dataset))\n",
    "print(Counter(y_dataset))\n"
   ]
  },
  {
   "cell_type": "markdown",
   "metadata": {},
   "source": [
    "**Padding all the gestures with None gesture in the front and end**"
   ]
  },
  {
   "cell_type": "code",
   "execution_count": 52,
   "metadata": {},
   "outputs": [
    {
     "data": {
      "text/plain": [
       "(25556, 90)"
      ]
     },
     "execution_count": 52,
     "metadata": {},
     "output_type": "execute_result"
    }
   ],
   "source": [
    "\n",
    "def alignRandomSample(X_dataset, RandomDataset, isBefore=True):\n",
    "    if isBefore:\n",
    "        # adjust the last point in RandomBefore to make sure it's the same as the \n",
    "        # first point in X_dataset\n",
    "        RandomDataset[:, ::2] = (RandomDataset[:, ::2].T + X_dataset[:, 0]- RandomDataset[:, -2]).T\n",
    "        RandomDataset[:, 1::2] = (RandomDataset[:, 1::2].T + X_dataset[:, 1]- RandomDataset[:, -1]).T\n",
    "        \n",
    "    else: # after\n",
    "        # do the same for RandomAfter, but this time, make sure it's first point \n",
    "        # is at the same position as the last point in X_dataset\n",
    "        RandomDataset[:, ::2] = (RandomDataset[:, ::2].T +X_dataset[:, -2] -RandomDataset[:, 0]).T\n",
    "        RandomDataset[:, 1::2] = (RandomDataset[:, 1::2].T + X_dataset[:, -1] - RandomDataset[:, 1]).T\n",
    "    \n",
    "    return RandomDataset\n",
    "\n",
    "def addRandomWalkBeforeAfter(X_dataset, nSamplesBefore, nSamplesAfter):\n",
    "    nSamples = X_dataset.shape[0]\n",
    "    \n",
    "    RandomBefore = createRandomWalkingData(nSamples, nSamplesBefore+1, maxMobiliarbus=0.05)\n",
    "    RandomAfter = createRandomWalkingData(nSamples, nSamplesAfter+1, maxMobiliarbus=0.05)\n",
    "\n",
    "    RandomBefore = alignRandomSample(X_dataset, RandomBefore, isBefore=True)\n",
    "    RandomAfter = alignRandomSample(X_dataset, RandomAfter, isBefore=False)\n",
    "    \n",
    "    # ignore the last point in RandomBefore and the first point in RandomAfter\n",
    "    X_dataset = np.hstack([RandomBefore[:, :-2], X_dataset, RandomAfter[:, 2:]])\n",
    "\n",
    "    return X_dataset\n",
    "\n",
    "def addRandomSamplesBeforeAfter(X_dataset, nSamplesBefore, nSamplesAfter):\n",
    "    nSamples = X_dataset.shape[0]\n",
    "    \n",
    "    randomSamples = np.random.randint(nSamples, size=nSamples)\n",
    "\n",
    "    RandomBefore = X_dataset[randomSamples].copy()\n",
    "    RandomAfter = X_dataset[randomSamples].copy()\n",
    "\n",
    "    RandomBefore = RandomBefore[:, -nSamplesBefore*2-2:]\n",
    "    RandomAfter = RandomAfter[:, :nSamplesAfter*2+2]\n",
    "\n",
    "    RandomBefore = alignRandomSample(X_dataset, RandomBefore, isBefore=True)\n",
    "    RandomAfter = alignRandomSample(X_dataset, RandomAfter, isBefore=False)\n",
    "    \n",
    "    # ignore the last point in RandomBefore and the first point in RandomAfter\n",
    "    X_dataset = np.hstack([RandomBefore[:, :-2], X_dataset, RandomAfter[:, 2:]])\n",
    "\n",
    "    return X_dataset\n",
    "\n",
    "# X_dataset_w_randomWalk = addRandomWalkBeforeAfter(X_dataset, 8, 7)\n",
    "# X_dataset_w_randomWalk.shape\n",
    "\n",
    "X_dataset_w_randomSamples = addRandomSamplesBeforeAfter(X_dataset, 8, 7)\n",
    "X_dataset_w_randomSamples.shape"
   ]
  },
  {
   "cell_type": "code",
   "execution_count": 53,
   "metadata": {},
   "outputs": [
    {
     "name": "stdout",
     "output_type": "stream",
     "text": [
      "X_dataset_expand= (25556, 90)\n",
      "label None\n",
      "23148 X_dataset_expand\n",
      "X_dataset_expand= (25556, 60)\n",
      "label None\n",
      "23148 X_dataset_expand\n"
     ]
    },
    {
     "data": {
      "text/plain": [
       "23148"
      ]
     },
     "execution_count": 53,
     "metadata": {},
     "output_type": "execute_result"
    },
    {
     "data": {
      "image/png": "[encoded data removed]",
      "text/plain": [
       "<Figure size 432x288 with 1 Axes>"
      ]
     },
     "metadata": {
      "needs_background": "light"
     },
     "output_type": "display_data"
    }
   ],
   "source": [
    "idx = display(X_dataset_w_randomSamples, \"X_dataset_expand\", y_dataset, label_names)\n",
    "display(X_dataset, \"X_dataset_expand\", y_dataset, label_names, idx=idx)"
   ]
  },
  {
   "cell_type": "code",
   "execution_count": 54,
   "metadata": {},
   "outputs": [],
   "source": [
    "X_dataset = X_dataset_w_randomSamples"
   ]
  },
  {
   "cell_type": "code",
   "execution_count": 56,
   "metadata": {},
   "outputs": [
    {
     "name": "stdout",
     "output_type": "stream",
     "text": [
      "Counter({6: 4000, 0: 3995, 3: 3846, 1: 3790, 2: 3540, 5: 3420, 4: 2965})\n",
      "{'Counter Clockwise': 3790, 'Clockwise': 3995, 'Checkmark': 3540, 'Cross': 3846, 'Left': 3420, 'Right': 2965, 'None': 4000}\n",
      "(25556, 90)\n"
     ]
    }
   ],
   "source": [
    "from collections import Counter\n",
    "c = Counter(y_dataset)\n",
    "print(c)\n",
    "\n",
    "\n",
    "label_count = {}\n",
    "for l in y_dataset:\n",
    "    label_count[label_names[l]] = (label_count.get(label_names[l], 0) + 1)\n",
    "print(label_count)\n",
    "print(X_dataset.shape)"
   ]
  },
  {
   "cell_type": "markdown",
   "metadata": {},
   "source": [
    "Filter for dataset == [✔，×，None]"
   ]
  },
  {
   "cell_type": "code",
   "execution_count": null,
   "metadata": {},
   "outputs": [],
   "source": [
    "filt = np.logical_or(np.logical_or(y_dataset==2, y_dataset==3), y_dataset==6)\n",
    "X_dataset = X_dataset[filt]\n",
    "y_dataset = y_dataset[filt]\n",
    "\n",
    "y_dataset[y_dataset == 2] = 0\n",
    "y_dataset[y_dataset == 3] = 1\n",
    "y_dataset[y_dataset == 6] = 2\n"
   ]
  },
  {
   "cell_type": "code",
   "execution_count": null,
   "metadata": {},
   "outputs": [
    {
     "name": "stdout",
     "output_type": "stream",
     "text": [
      "Counter({2: 8000, 0: 3540, 1: 3205})\n"
     ]
    }
   ],
   "source": [
    "from collections import Counter\n",
    "c = Counter(y_dataset)\n",
    "print(c)"
   ]
  },
  {
   "cell_type": "code",
   "execution_count": 57,
   "metadata": {},
   "outputs": [],
   "source": [
    "X_train, X_test, y_train, y_test = train_test_split(X_dataset, y_dataset, train_size=0.75, random_state=RANDOM_SEED)"
   ]
  },
  {
   "cell_type": "markdown",
   "metadata": {},
   "source": [
    "Print the Train Set Info"
   ]
  },
  {
   "cell_type": "code",
   "execution_count": 58,
   "metadata": {},
   "outputs": [
    {
     "name": "stdout",
     "output_type": "stream",
     "text": [
      "(19167, 90) (19167,)\n",
      "{'Clockwise': 3016, 'Checkmark': 2695, 'Counter Clockwise': 2824, 'Left': 2567, 'None': 3003, 'Cross': 2875, 'Right': 2187}\n"
     ]
    }
   ],
   "source": [
    "print(X_train.shape, y_train.shape)\n",
    "\n",
    "label_count = {}\n",
    "for l in y_train:\n",
    "    label_count[label_names[l]] = (label_count.get(label_names[l], 0) + 1)\n",
    "print(label_count)"
   ]
  },
  {
   "cell_type": "markdown",
   "metadata": {},
   "source": [
    "# モデル構築"
   ]
  },
  {
   "cell_type": "code",
   "execution_count": 59,
   "metadata": {},
   "outputs": [
    {
     "name": "stderr",
     "output_type": "stream",
     "text": [
      "2022-04-12 10:34:06.373595: I tensorflow/core/platform/cpu_feature_guard.cc:151] This TensorFlow binary is optimized with oneAPI Deep Neural Network Library (oneDNN) to use the following CPU instructions in performance-critical operations:  AVX2 AVX512F FMA\n",
      "To enable them in other operations, rebuild TensorFlow with the appropriate compiler flags.\n",
      "2022-04-12 10:34:06.374171: I tensorflow/stream_executor/cuda/cuda_gpu_executor.cc:939] successful NUMA node read from SysFS had negative value (-1), but there must be at least one NUMA node, so returning NUMA node zero\n",
      "2022-04-12 10:34:06.374959: I tensorflow/stream_executor/cuda/cuda_gpu_executor.cc:939] successful NUMA node read from SysFS had negative value (-1), but there must be at least one NUMA node, so returning NUMA node zero\n",
      "2022-04-12 10:34:06.375656: I tensorflow/stream_executor/cuda/cuda_gpu_executor.cc:939] successful NUMA node read from SysFS had negative value (-1), but there must be at least one NUMA node, so returning NUMA node zero\n",
      "2022-04-12 10:34:06.895977: I tensorflow/stream_executor/cuda/cuda_gpu_executor.cc:939] successful NUMA node read from SysFS had negative value (-1), but there must be at least one NUMA node, so returning NUMA node zero\n",
      "2022-04-12 10:34:06.896683: I tensorflow/stream_executor/cuda/cuda_gpu_executor.cc:939] successful NUMA node read from SysFS had negative value (-1), but there must be at least one NUMA node, so returning NUMA node zero\n",
      "2022-04-12 10:34:06.897352: I tensorflow/stream_executor/cuda/cuda_gpu_executor.cc:939] successful NUMA node read from SysFS had negative value (-1), but there must be at least one NUMA node, so returning NUMA node zero\n",
      "2022-04-12 10:34:06.898013: I tensorflow/core/common_runtime/gpu/gpu_device.cc:1525] Created device /job:localhost/replica:0/task:0/device:GPU:0 with 21827 MB memory:  -> device: 0, name: NVIDIA GeForce RTX 3090, pci bus id: 0000:01:00.0, compute capability: 8.6\n"
     ]
    }
   ],
   "source": [
    "use_lstm = True\n",
    "model = None\n",
    "\n",
    "TIME_STEPS = TIME_STEPS_AFTER_EXPAND\n",
    "\n",
    "if use_lstm:\n",
    "    model = tf.keras.models.Sequential([\n",
    "        tf.keras.layers.InputLayer(input_shape=(TIME_STEPS * DIMENSION, )),\n",
    "        tf.keras.layers.Reshape((TIME_STEPS, DIMENSION), input_shape=(TIME_STEPS * DIMENSION, )), \n",
    "        tf.keras.layers.Dropout(0.1), #0.2\n",
    "        tf.keras.layers.LSTM(16, input_shape=[TIME_STEPS, DIMENSION]), # 16 previous\n",
    "        tf.keras.layers.Dropout(0.2), #0.5\n",
    "        tf.keras.layers.Dense(20, activation='relu'),\n",
    "        tf.keras.layers.Dense(NUM_CLASSES, activation='softmax')\n",
    "    ])\n",
    "else:\n",
    "    model = tf.keras.models.Sequential([\n",
    "        tf.keras.layers.InputLayer(input_shape=(TIME_STEPS * DIMENSION, )),\n",
    "        tf.keras.layers.Dropout(0.2), #0.2\n",
    "        tf.keras.layers.Dense(15, activation='relu'),\n",
    "        tf.keras.layers.Dropout(0.5), #0.5\n",
    "        tf.keras.layers.Dense(10, activation='relu'),\n",
    "        tf.keras.layers.Dense(NUM_CLASSES, activation='softmax')\n",
    "    ])"
   ]
  },
  {
   "cell_type": "code",
   "execution_count": 60,
   "metadata": {},
   "outputs": [
    {
     "name": "stdout",
     "output_type": "stream",
     "text": [
      "Model: \"sequential\"\n",
      "_________________________________________________________________\n",
      " Layer (type)                Output Shape              Param #   \n",
      "=================================================================\n",
      " reshape (Reshape)           (None, 45, 2)             0         \n",
      "                                                                 \n",
      " dropout (Dropout)           (None, 45, 2)             0         \n",
      "                                                                 \n",
      " lstm (LSTM)                 (None, 16)                1216      \n",
      "                                                                 \n",
      " dropout_1 (Dropout)         (None, 16)                0         \n",
      "                                                                 \n",
      " dense (Dense)               (None, 20)                340       \n",
      "                                                                 \n",
      " dense_1 (Dense)             (None, 7)                 147       \n",
      "                                                                 \n",
      "=================================================================\n",
      "Total params: 1,703\n",
      "Trainable params: 1,703\n",
      "Non-trainable params: 0\n",
      "_________________________________________________________________\n"
     ]
    }
   ],
   "source": [
    "model.summary()  # tf.keras.utils.plot_model(model, show_shapes=True)"
   ]
  },
  {
   "cell_type": "code",
   "execution_count": 61,
   "metadata": {},
   "outputs": [],
   "source": [
    "# モデルチェックポイントのコールバック\n",
    "cp_callback = tf.keras.callbacks.ModelCheckpoint(\n",
    "    model_save_path, verbose=1, save_weights_only=False)\n",
    "# 早期打ち切り用コールバック\n",
    "# es_callback = tf.keras.callbacks.EarlyStopping(patience=1000, verbose=1)\n",
    "es_callback = tf.keras.callbacks.EarlyStopping(\n",
    "    monitor='val_loss', min_delta=0.001, patience=500, verbose=1,\n",
    "    mode='auto', baseline=None, restore_best_weights=False\n",
    ")"
   ]
  },
  {
   "cell_type": "code",
   "execution_count": 62,
   "metadata": {},
   "outputs": [],
   "source": [
    "# Model compilation\n",
    "model.compile(\n",
    "    optimizer='adam',\n",
    "    loss='sparse_categorical_crossentropy',\n",
    "    metrics=['accuracy']\n",
    ")"
   ]
  },
  {
   "cell_type": "code",
   "execution_count": 64,
   "metadata": {},
   "outputs": [],
   "source": [
    "# 保存したモデルのロード\n",
    "model = tf.keras.models.load_model(model_save_path)"
   ]
  },
  {
   "cell_type": "code",
   "execution_count": 66,
   "metadata": {},
   "outputs": [
    {
     "name": "stdout",
     "output_type": "stream",
     "text": [
      "[1.0851294e-05 8.5737765e-01 7.2409021e-04 1.4032802e-01 7.7912940e-05\n",
      " 1.4783355e-03 3.1569250e-06]\n",
      "1\n"
     ]
    }
   ],
   "source": [
    "# 推論テスト\n",
    "predict_result = model.predict(np.array([X_test[0]]))\n",
    "print(np.squeeze(predict_result))\n",
    "print(np.argmax(np.squeeze(predict_result)))"
   ]
  },
  {
   "cell_type": "markdown",
   "metadata": {},
   "source": [
    "# 混同行列"
   ]
  },
  {
   "cell_type": "code",
   "execution_count": 67,
   "metadata": {},
   "outputs": [
    {
     "data": {
      "image/png": "[encoded data removed]",
      "text/plain": [
       "<Figure size 504x432 with 2 Axes>"
      ]
     },
     "metadata": {
      "needs_background": "light"
     },
     "output_type": "display_data"
    },
    {
     "name": "stdout",
     "output_type": "stream",
     "text": [
      "Classification Report\n",
      "              precision    recall  f1-score   support\n",
      "\n",
      "           0       0.98      0.94      0.96       979\n",
      "           1       0.94      0.94      0.94       966\n",
      "           2       0.88      0.88      0.88       845\n",
      "           3       0.83      0.85      0.84       971\n",
      "           4       0.95      0.97      0.96       778\n",
      "           5       0.91      0.93      0.92       853\n",
      "           6       0.98      0.95      0.97       997\n",
      "\n",
      "    accuracy                           0.92      6389\n",
      "   macro avg       0.92      0.92      0.92      6389\n",
      "weighted avg       0.92      0.92      0.92      6389\n",
      "\n"
     ]
    }
   ],
   "source": [
    "import pandas as pd\n",
    "import seaborn as sns\n",
    "import matplotlib.pyplot as plt\n",
    "from sklearn.metrics import confusion_matrix, classification_report\n",
    "\n",
    "def print_confusion_matrix(y_true, y_pred, report=True):\n",
    "    labels = sorted(list(set(y_true)))\n",
    "    cmx_data = confusion_matrix(y_true, y_pred, labels=labels)\n",
    "    \n",
    "    df_cmx = pd.DataFrame(cmx_data, index=labels, columns=labels)\n",
    " \n",
    "    fig, ax = plt.subplots(figsize=(7, 6))\n",
    "    sns.heatmap(df_cmx, annot=True, fmt='g' ,square=False)\n",
    "    ax.set_ylim(len(set(y_true)), 0)\n",
    "    plt.show()\n",
    "    \n",
    "    if report:\n",
    "        print('Classification Report')\n",
    "        print(classification_report(y_test, y_pred))\n",
    "\n",
    "Y_pred = model.predict(X_test)\n",
    "y_pred = np.argmax(Y_pred, axis=1)\n",
    "\n",
    "print_confusion_matrix(y_test, y_pred)"
   ]
  },
  {
   "cell_type": "markdown",
   "metadata": {},
   "source": [
    "# Tensorflow-Lite用のモデルへ変換"
   ]
  },
  {
   "cell_type": "code",
   "execution_count": 68,
   "metadata": {},
   "outputs": [
    {
     "name": "stdout",
     "output_type": "stream",
     "text": [
      "WARNING:tensorflow:No training configuration found in the save file, so the model was *not* compiled. Compile it manually.\n"
     ]
    }
   ],
   "source": [
    "# 推論専用のモデルとして保存\n",
    "model.save(model_save_path, include_optimizer=False)\n",
    "model = tf.keras.models.load_model(model_save_path)"
   ]
  },
  {
   "cell_type": "code",
   "execution_count": 69,
   "metadata": {},
   "outputs": [
    {
     "name": "stderr",
     "output_type": "stream",
     "text": [
      "2022-04-12 10:49:22.682889: W tensorflow/python/util/util.cc:368] Sets are not currently considered sequences, but this may change in the future, so consider avoiding using them.\n",
      "WARNING:absl:Found untraced functions such as lstm_cell_2_layer_call_fn, lstm_cell_2_layer_call_and_return_conditional_losses, lstm_cell_2_layer_call_fn, lstm_cell_2_layer_call_and_return_conditional_losses, lstm_cell_2_layer_call_and_return_conditional_losses while saving (showing 5 of 5). These functions will not be directly callable after loading.\n"
     ]
    },
    {
     "name": "stdout",
     "output_type": "stream",
     "text": [
      "INFO:tensorflow:Assets written to: /tmp/tmp4bg1ynrr/assets\n"
     ]
    },
    {
     "name": "stderr",
     "output_type": "stream",
     "text": [
      "INFO:tensorflow:Assets written to: /tmp/tmp4bg1ynrr/assets\n",
      "2022-04-12 10:49:25.282125: W tensorflow/compiler/mlir/lite/python/tf_tfl_flatbuffer_helpers.cc:363] Ignored output_format.\n",
      "2022-04-12 10:49:25.282145: W tensorflow/compiler/mlir/lite/python/tf_tfl_flatbuffer_helpers.cc:366] Ignored drop_control_dependency.\n",
      "WARNING:absl:Buffer deduplication procedure will be skipped when flatbuffer library is not properly loaded\n",
      "2022-04-12 10:49:25.283187: I tensorflow/cc/saved_model/reader.cc:43] Reading SavedModel from: /tmp/tmp4bg1ynrr\n",
      "2022-04-12 10:49:25.289254: I tensorflow/cc/saved_model/reader.cc:107] Reading meta graph with tags { serve }\n",
      "2022-04-12 10:49:25.289264: I tensorflow/cc/saved_model/reader.cc:148] Reading SavedModel debug info (if present) from: /tmp/tmp4bg1ynrr\n",
      "2022-04-12 10:49:25.317819: I tensorflow/cc/saved_model/loader.cc:210] Restoring SavedModel bundle.\n",
      "2022-04-12 10:49:25.360133: I tensorflow/cc/saved_model/loader.cc:194] Running initialization op on SavedModel bundle at path: /tmp/tmp4bg1ynrr\n",
      "2022-04-12 10:49:25.395919: I tensorflow/cc/saved_model/loader.cc:283] SavedModel load for tags { serve }; Status: success: OK. Took 113301 microseconds.\n",
      "2022-04-12 10:49:25.468865: I tensorflow/compiler/mlir/tensorflow/utils/dump_mlir_util.cc:237] disabling MLIR crash reproducer, set env var `MLIR_CRASH_REPRODUCER_DIRECTORY` to enable.\n",
      "2022-04-12 10:49:25.549691: W tensorflow/compiler/mlir/lite/flatbuffer_export.cc:1891] TFLite interpreter needs to link Flex delegate in order to run the model since it contains the following Select TFop(s):\n",
      "Flex ops: FlexTensorListFromTensor, FlexTensorListGetItem, FlexTensorListReserve, FlexTensorListSetItem, FlexTensorListStack\n",
      "Details:\n",
      "\ttf.TensorListFromTensor(tensor<45x?x2xf32>, tensor<2xi32>) -> (tensor<!tf_type.variant<tensor<?x2xf32>>>) : {device = \"\"}\n",
      "\ttf.TensorListGetItem(tensor<!tf_type.variant<tensor<?x2xf32>>>, tensor<i32>, tensor<2xi32>) -> (tensor<?x2xf32>) : {device = \"\"}\n",
      "\ttf.TensorListReserve(tensor<2xi32>, tensor<i32>) -> (tensor<!tf_type.variant<tensor<?x16xf32>>>) : {device = \"\"}\n",
      "\ttf.TensorListSetItem(tensor<!tf_type.variant<tensor<?x16xf32>>>, tensor<i32>, tensor<?x16xf32>) -> (tensor<!tf_type.variant<tensor<?x16xf32>>>) : {device = \"\"}\n",
      "\ttf.TensorListStack(tensor<!tf_type.variant<tensor<?x16xf32>>>, tensor<2xi32>) -> (tensor<?x?x16xf32>) : {device = \"\", num_elements = -1 : i64}\n",
      "See instructions: https://www.tensorflow.org/lite/guide/ops_select\n",
      "2022-04-12 10:49:25.549816: I tensorflow/lite/tools/optimize/quantize_weights.cc:225] Skipping quantization of tensor sequential/dense/MatMul because it has fewer than 1024 elements (320).\n",
      "2022-04-12 10:49:25.549820: I tensorflow/lite/tools/optimize/quantize_weights.cc:225] Skipping quantization of tensor sequential/dense_1/MatMul because it has fewer than 1024 elements (140).\n",
      "2022-04-12 10:49:25.549823: I tensorflow/lite/tools/optimize/quantize_weights.cc:225] Skipping quantization of tensor while/MatMul because it has fewer than 1024 elements (128).\n"
     ]
    },
    {
     "data": {
      "text/plain": [
       "14928"
      ]
     },
     "execution_count": 69,
     "metadata": {},
     "output_type": "execute_result"
    }
   ],
   "source": [
    "from tensorflow import lite\n",
    "converter = lite.TFLiteConverter.from_keras_model(model)\n",
    "\n",
    "converter.optimizations = [tf.lite.Optimize.DEFAULT]\n",
    "converter.experimental_new_converter=True\n",
    "converter.target_spec.supported_ops = [tf.lite.OpsSet.TFLITE_BUILTINS,\n",
    "tf.lite.OpsSet.SELECT_TF_OPS]\n",
    "\n",
    "tfmodel = converter.convert()\n",
    "open(tflite_save_path, 'wb').write(tfmodel)"
   ]
  },
  {
   "cell_type": "markdown",
   "metadata": {},
   "source": [
    "# 推論テスト"
   ]
  },
  {
   "cell_type": "code",
   "execution_count": null,
   "metadata": {},
   "outputs": [],
   "source": [
    "interpreter = tf.lite.Interpreter(model_path=tflite_save_path)\n",
    "interpreter.allocate_tensors()"
   ]
  },
  {
   "cell_type": "code",
   "execution_count": null,
   "metadata": {},
   "outputs": [
    {
     "name": "stdout",
     "output_type": "stream",
     "text": [
      "[{'name': 'serving_default_input_2:0', 'index': 0, 'shape': array([ 1, 60]), 'shape_signature': array([-1, 60]), 'dtype': <class 'numpy.float32'>, 'quantization': (0.0, 0), 'quantization_parameters': {'scales': array([], dtype=float32), 'zero_points': array([], dtype=int32), 'quantized_dimension': 0}, 'sparsity_parameters': {}}]\n"
     ]
    }
   ],
   "source": [
    "# 入出力テンソルを取得\n",
    "input_details = interpreter.get_input_details()\n",
    "output_details = interpreter.get_output_details()\n",
    "print(input_details)"
   ]
  },
  {
   "cell_type": "code",
   "execution_count": null,
   "metadata": {},
   "outputs": [
    {
     "ename": "ValueError",
     "evalue": "Cannot set tensor: Got value of type FLOAT64 but expected type FLOAT32 for input 0, name: serving_default_input_4:0 ",
     "output_type": "error",
     "traceback": [
      "\u001b[1;31m---------------------------------------------------------------------------\u001b[0m",
      "\u001b[1;31mValueError\u001b[0m                                Traceback (most recent call last)",
      "\u001b[1;32m~\\AppData\\Local\\Temp/ipykernel_30868/3381142894.py\u001b[0m in \u001b[0;36m<module>\u001b[1;34m\u001b[0m\n\u001b[1;32m----> 1\u001b[1;33m \u001b[0minterpreter\u001b[0m\u001b[1;33m.\u001b[0m\u001b[0mset_tensor\u001b[0m\u001b[1;33m(\u001b[0m\u001b[0minput_details\u001b[0m\u001b[1;33m[\u001b[0m\u001b[1;36m0\u001b[0m\u001b[1;33m]\u001b[0m\u001b[1;33m[\u001b[0m\u001b[1;34m'index'\u001b[0m\u001b[1;33m]\u001b[0m\u001b[1;33m,\u001b[0m \u001b[0mnp\u001b[0m\u001b[1;33m.\u001b[0m\u001b[0marray\u001b[0m\u001b[1;33m(\u001b[0m\u001b[1;33m[\u001b[0m\u001b[0mX_test\u001b[0m\u001b[1;33m[\u001b[0m\u001b[1;36m0\u001b[0m\u001b[1;33m]\u001b[0m\u001b[1;33m]\u001b[0m\u001b[1;33m)\u001b[0m\u001b[1;33m)\u001b[0m\u001b[1;33m\u001b[0m\u001b[1;33m\u001b[0m\u001b[0m\n\u001b[0m",
      "\u001b[1;32m~\\AppData\\Local\\Programs\\Python\\Python38\\lib\\site-packages\\tensorflow\\lite\\python\\interpreter.py\u001b[0m in \u001b[0;36mset_tensor\u001b[1;34m(self, tensor_index, value)\u001b[0m\n\u001b[0;32m    703\u001b[0m       \u001b[0mValueError\u001b[0m\u001b[1;33m:\u001b[0m \u001b[0mIf\u001b[0m \u001b[0mthe\u001b[0m \u001b[0minterpreter\u001b[0m \u001b[0mcould\u001b[0m \u001b[1;32mnot\u001b[0m \u001b[0mset\u001b[0m \u001b[0mthe\u001b[0m \u001b[0mtensor\u001b[0m\u001b[1;33m.\u001b[0m\u001b[1;33m\u001b[0m\u001b[1;33m\u001b[0m\u001b[0m\n\u001b[0;32m    704\u001b[0m     \"\"\"\n\u001b[1;32m--> 705\u001b[1;33m     \u001b[0mself\u001b[0m\u001b[1;33m.\u001b[0m\u001b[0m_interpreter\u001b[0m\u001b[1;33m.\u001b[0m\u001b[0mSetTensor\u001b[0m\u001b[1;33m(\u001b[0m\u001b[0mtensor_index\u001b[0m\u001b[1;33m,\u001b[0m \u001b[0mvalue\u001b[0m\u001b[1;33m)\u001b[0m\u001b[1;33m\u001b[0m\u001b[1;33m\u001b[0m\u001b[0m\n\u001b[0m\u001b[0;32m    706\u001b[0m \u001b[1;33m\u001b[0m\u001b[0m\n\u001b[0;32m    707\u001b[0m   \u001b[1;32mdef\u001b[0m \u001b[0mresize_tensor_input\u001b[0m\u001b[1;33m(\u001b[0m\u001b[0mself\u001b[0m\u001b[1;33m,\u001b[0m \u001b[0minput_index\u001b[0m\u001b[1;33m,\u001b[0m \u001b[0mtensor_size\u001b[0m\u001b[1;33m,\u001b[0m \u001b[0mstrict\u001b[0m\u001b[1;33m=\u001b[0m\u001b[1;32mFalse\u001b[0m\u001b[1;33m)\u001b[0m\u001b[1;33m:\u001b[0m\u001b[1;33m\u001b[0m\u001b[1;33m\u001b[0m\u001b[0m\n",
      "\u001b[1;31mValueError\u001b[0m: Cannot set tensor: Got value of type FLOAT64 but expected type FLOAT32 for input 0, name: serving_default_input_4:0 "
     ]
    }
   ],
   "source": [
    "interpreter.set_tensor(input_details[0]['index'], np.array([X_test[0]]))"
   ]
  },
  {
   "cell_type": "code",
   "execution_count": null,
   "metadata": {},
   "outputs": [
    {
     "name": "stdout",
     "output_type": "stream",
     "text": [
      "Wall time: 1.98 ms\n"
     ]
    }
   ],
   "source": [
    "%%time\n",
    "# 推論実施\n",
    "interpreter.invoke()\n",
    "tflite_results = interpreter.get_tensor(output_details[0]['index'])"
   ]
  },
  {
   "cell_type": "code",
   "execution_count": null,
   "metadata": {},
   "outputs": [
    {
     "name": "stdout",
     "output_type": "stream",
     "text": [
      "[9.91341192e-03 1.93613872e-03 1.13033675e-01 8.63234580e-01\n",
      " 4.45278332e-04 1.14368945e-02]\n",
      "3\n"
     ]
    }
   ],
   "source": [
    "print(np.squeeze(tflite_results))\n",
    "print(np.argmax(np.squeeze(tflite_results)))"
   ]
  }
 ],
 "metadata": {
  "kernelspec": {
   "display_name": "Python 3",
   "language": "python",
   "name": "python3"
  },
  "language_info": {
   "codemirror_mode": {
    "name": "ipython",
    "version": 3
   },
   "file_extension": ".py",
   "mimetype": "text/x-python",
   "name": "python",
   "nbconvert_exporter": "python",
   "pygments_lexer": "ipython3",
   "version": "3.10.3"
  }
 },
 "nbformat": 4,
 "nbformat_minor": 4
}
